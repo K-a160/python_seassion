{
 "cells": [
  {
   "cell_type": "code",
   "execution_count": 8,
   "metadata": {},
   "outputs": [],
   "source": [
    "# import cv2\n",
    "\n",
    "# camera = cv2.VideoCapture(0)\n",
    "# for i in range(10):\n",
    "#     return_value, image = camera.read()\n",
    "#     cv2.imwrite('opencv'+str(i)+'.png', image)\n",
    "# del(camera)"
   ]
  },
  {
   "cell_type": "code",
   "execution_count": 9,
   "id": "f93d9f94",
   "metadata": {},
   "outputs": [],
   "source": [
    "# import cv2\n",
    "  \n",
    "  \n",
    "# # define a video capture object\n",
    "# vid = cv2.VideoCapture(0)\n",
    "  \n",
    "# while(True):\n",
    "      \n",
    "#     # Capture the video frame\n",
    "#     # by frame\n",
    "#     ret, frame = vid.read()\n",
    "  \n",
    "#     # Display the resulting frame\n",
    "#     cv2.imshow('frame', frame)\n",
    "      \n",
    "#     # the 'q' button is set as the\n",
    "#     # quitting button you may use any\n",
    "#     # desired button of your choice\n",
    "#     if cv2.waitKey(1) & 0xFF == ord('q'):\n",
    "#         break\n",
    "  \n",
    "# # After the loop release the cap object\n",
    "# vid.release()\n",
    "# # Destroy all the windows\n",
    "# cv2.destroyAllWindows()"
   ]
  },
  {
   "cell_type": "code",
   "execution_count": 10,
   "id": "2afb0ff4",
   "metadata": {},
   "outputs": [
    {
     "ename": "AttributeError",
     "evalue": "module 'cv2' has no attribute 'waitkey'",
     "output_type": "error",
     "traceback": [
      "\u001b[1;31m---------------------------------------------------------------------------\u001b[0m",
      "\u001b[1;31mAttributeError\u001b[0m                            Traceback (most recent call last)",
      "Cell \u001b[1;32mIn[10], line 10\u001b[0m\n\u001b[0;32m      6\u001b[0m ret,frame\u001b[39m=\u001b[39mvid\u001b[39m.\u001b[39mread()\n\u001b[0;32m      8\u001b[0m cv2\u001b[39m.\u001b[39mimshow(\u001b[39m'\u001b[39m\u001b[39mframe\u001b[39m\u001b[39m'\u001b[39m,frame)\n\u001b[1;32m---> 10\u001b[0m \u001b[39mif\u001b[39;00m cv2\u001b[39m.\u001b[39;49mwaitkey(\u001b[39m1\u001b[39m) \u001b[39m&\u001b[39m \u001b[39m0xFF\u001b[39m \u001b[39m==\u001b[39m\u001b[39mord\u001b[39m(\u001b[39m'\u001b[39m\u001b[39mz\u001b[39m\u001b[39m'\u001b[39m):\n\u001b[0;32m     11\u001b[0m   vid\u001b[39m.\u001b[39mrelease()\n\u001b[0;32m     13\u001b[0m   cv2\u001b[39m.\u001b[39mdestroyAllWindows()\n",
      "\u001b[1;31mAttributeError\u001b[0m: module 'cv2' has no attribute 'waitkey'"
     ]
    },
    {
     "ename": "",
     "evalue": "",
     "output_type": "error",
     "traceback": [
      "\u001b[1;31mThe Kernel crashed while executing code in the the current cell or a previous cell. Please review the code in the cell(s) to identify a possible cause of the failure. Click <a href='https://aka.ms/vscodeJupyterKernelCrash'>here</a> for more info. View Jupyter <a href='command:jupyter.viewOutput'>log</a> for further details."
     ]
    }
   ],
   "source": [
    "\n",
    "import cv2\n",
    "\n",
    "vid=cv2.VideoCapture(0)\n",
    "\n",
    "while(True):\n",
    "  ret,frame=vid.read()\n",
    "\n",
    "  cv2.imshow('frame',frame)\n",
    "\n",
    "  if cv2.waitkey(1) & 0xFF ==ord('z'):\n",
    "vid.release()\n",
    "\n",
    "cv2.destroyAllWindows()"
   ]
  },
  {
   "cell_type": "code",
   "execution_count": null,
   "id": "8675c10b",
   "metadata": {},
   "outputs": [
    {
     "ename": "KeyboardInterrupt",
     "evalue": "",
     "output_type": "error",
     "traceback": [
      "\u001b[1;31m---------------------------------------------------------------------------\u001b[0m",
      "\u001b[1;31mKeyboardInterrupt\u001b[0m                         Traceback (most recent call last)",
      "Cell \u001b[1;32mIn[6], line 16\u001b[0m\n\u001b[0;32m     13\u001b[0m \u001b[39m# while loop\u001b[39;00m\n\u001b[0;32m     14\u001b[0m \u001b[39mwhile\u001b[39;00m \u001b[39mTrue\u001b[39;00m:\n\u001b[0;32m     15\u001b[0m     \u001b[39m# intializing the frame, ret\u001b[39;00m\n\u001b[1;32m---> 16\u001b[0m     ret, frame \u001b[39m=\u001b[39m cam\u001b[39m.\u001b[39;49mread()\n\u001b[0;32m     17\u001b[0m     \u001b[39m# if statement\u001b[39;00m\n\u001b[0;32m     18\u001b[0m     \u001b[39mif\u001b[39;00m \u001b[39mnot\u001b[39;00m ret:\n",
      "\u001b[1;31mKeyboardInterrupt\u001b[0m: "
     ]
    },
    {
     "ename": "",
     "evalue": "",
     "output_type": "error",
     "traceback": [
      "\u001b[1;31mThe Kernel crashed while executing code in the the current cell or a previous cell. Please review the code in the cell(s) to identify a possible cause of the failure. Click <a href='https://aka.ms/vscodeJupyterKernelCrash'>here</a> for more info. View Jupyter <a href='command:jupyter.viewOutput'>log</a> for further details."
     ]
    }
   ],
   "source": [
    "# # importing the python open cv library\n",
    "# import cv2\n",
    "\n",
    "# # intialize the webcam and pass a constant which is 0\n",
    "# cam = cv2.VideoCapture(0)\n",
    "\n",
    "# # title of the app\n",
    "# cv2.namedWindow('python webcam screenshot app')\n",
    "\n",
    "# # let's assume the number of images gotten is 0\n",
    "# img_counter = 0\n",
    "\n",
    "# # while loop\n",
    "# while True:\n",
    "#     # intializing the frame, ret\n",
    "#     ret, frame = cam.read()\n",
    "#     # if statement\n",
    "#     if not ret:\n",
    "#         print('failed to grab frame')\n",
    "#         break\n",
    "#     # the frame will show with the title of test\n",
    "#     cv2.imshow('test', frame)\n",
    "#     #to get continuous live video feed from my laptops webcam\n",
    "#     k  = cv2.waitKey(1)\n",
    "#     # if the escape key is been pressed, the app will stop\n",
    "#     if k%256 == 27:\n",
    "#         print('escape hit, closing the app')\n",
    "#         break\n",
    "#     # if the spacebar key is been pressed\n",
    "#     # screenshots will be taken\n",
    "#     elif k%256  == 32:\n",
    "#         # the format for storing the images scrreenshotted\n",
    "#         img_name = f'opencv_frame_{img_counter}'\n",
    "#         # saves the image as a png file\n",
    "#         cv2.imwrite(img_name, frame)\n",
    "#         print('screenshot taken')\n",
    "#         # the number of images automaticallly increases by 1\n",
    "#         img_counter += 1\n",
    "\n",
    "# # release the camera\n",
    "# cam.release()\n",
    "\n",
    "# # stops the camera window\n",
    "# cam.destoryAllWindows()"
   ]
  }
 ],
 "metadata": {
  "kernelspec": {
   "display_name": "Python 3",
   "language": "python",
   "name": "python3"
  },
  "language_info": {
   "codemirror_mode": {
    "name": "ipython",
    "version": 3
   },
   "file_extension": ".py",
   "mimetype": "text/x-python",
   "name": "python",
   "nbconvert_exporter": "python",
   "pygments_lexer": "ipython3",
   "version": "3.11.1 (tags/v3.11.1:a7a450f, Dec  6 2022, 19:58:39) [MSC v.1934 64 bit (AMD64)]"
  },
  "vscode": {
   "interpreter": {
    "hash": "c261aea317cc0286b3b3261fbba9abdec21eaa57589985bb7a274bf54d6cc0a7"
   }
  }
 },
 "nbformat": 4,
 "nbformat_minor": 5
}
