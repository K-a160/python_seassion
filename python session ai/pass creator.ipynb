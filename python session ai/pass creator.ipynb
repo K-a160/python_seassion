{
 "cells": [
  {
   "cell_type": "code",
   "execution_count": 1,
   "metadata": {},
   "outputs": [],
   "source": [
    "# import random\n",
    "\n",
    "# lower=\"abcdefghijklmnopqrstuvwxyz\"\n",
    "# upper= \"ABCDEFGHIJKLMNOPQRSTUVWXYZ\"\n",
    "# number = \"0123456789\"\n",
    "# symbol=\"{}[](),.*@#\"\n",
    "\n",
    "\n",
    "\n",
    "# all=lower+upper+number+symbol\n",
    "# length=16\n",
    "\n",
    "# password=\"\".join(random.sample(all,length))\n",
    "# print(password)"
   ]
  },
  {
   "cell_type": "code",
   "execution_count": 2,
   "metadata": {},
   "outputs": [
    {
     "name": "stdout",
     "output_type": "stream",
     "text": [
      "I%^3{$7i*e\n"
     ]
    }
   ],
   "source": [
    "import random\n",
    "\n",
    "lower= \"abcdefghijl\"\n",
    "\n",
    "upper= \"ABCDEFGHIJKL\"\n",
    "\n",
    "number=\"0123456789\"\n",
    "\n",
    "symbol= \"[]{}!@#$%^&*()-\"\n",
    "\n",
    "\n",
    "create=lower +upper +symbol+number\n",
    "\n",
    "length=10\n",
    "\n",
    "password=\"\".join(random.sample(create,length))\n",
    "print(password)\n"
   ]
  }
 ],
 "metadata": {
  "kernelspec": {
   "display_name": "Python 3",
   "language": "python",
   "name": "python3"
  },
  "language_info": {
   "codemirror_mode": {
    "name": "ipython",
    "version": 3
   },
   "file_extension": ".py",
   "mimetype": "text/x-python",
   "name": "python",
   "nbconvert_exporter": "python",
   "pygments_lexer": "ipython3",
   "version": "3.11.1"
  },
  "orig_nbformat": 4,
  "vscode": {
   "interpreter": {
    "hash": "c261aea317cc0286b3b3261fbba9abdec21eaa57589985bb7a274bf54d6cc0a7"
   }
  }
 },
 "nbformat": 4,
 "nbformat_minor": 2
}
